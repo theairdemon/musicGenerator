{
 "cells": [
  {
   "cell_type": "markdown",
   "metadata": {},
   "source": [
    "# Song Generator\n",
    "\n",
    "Idea: use the chord progressions thing to generate sequence, then a melody over that sequence that fits according to the number of beats in an input poem\n",
    "\n",
    "![](poss_chords_prog.png)\n",
    "\n",
    "---"
   ]
  },
  {
   "cell_type": "markdown",
   "metadata": {},
   "source": [
    "### Structure\n",
    "1. Generate chord sequence\n",
    "2. Do this for verses, chorus, and bridge\n",
    "3. Parse input test, find number of syllables per line\n",
    "4. Generate melody with same number of notes over the chord progression\n",
    "5. (maybe) export to midi files\n",
    "6. Put into ableton\n",
    "7. Record vocals\n",
    "8. Repeat over and over and over...\n",
    "9. Profit"
   ]
  },
  {
   "cell_type": "code",
   "execution_count": 3,
   "metadata": {},
   "outputs": [],
   "source": [
    "import random"
   ]
  },
  {
   "cell_type": "code",
   "execution_count": 46,
   "metadata": {},
   "outputs": [],
   "source": [
    "class SongGeneration:\n",
    "    \n",
    "    def __init__(self, key, length=4):\n",
    "        self.key = key\n",
    "        self.length = length # default is 4 chords\n",
    "        # absolute maximum recommended length: 9\n",
    "        self.chord_prog_maj = {'I':[['V', 'vii'], ['ii', 'IV'], ['vi'], ['iii']],\n",
    "                          'ii':['V', 'vii'],\n",
    "                          'iii': ['vi'],\n",
    "                          'IV':['V', 'vii'],\n",
    "                          'V': ['iii'],\n",
    "                          'vi': ['ii', 'IV'],\n",
    "                          'vii': ['iii']}\n",
    "        self.chords = []\n",
    "    \n",
    "    def __str__(self):\n",
    "        return str(self.chords)\n",
    "        \n",
    "    def gen_chords(self):\n",
    "        chords = ['I']\n",
    "        sub_value = 2\n",
    "        start_value = (self.length - sub_value) % 4\n",
    "        start_chord = random.choice(self.chord_prog_maj[chords[0]][start_value])\n",
    "        chords.append(start_chord)\n",
    "        \n",
    "        while len(chords) != self.length:\n",
    "            next_chord = random.choice(self.chord_prog_maj[chords[-1]])            \n",
    "            chords.append(next_chord)\n",
    "            \n",
    "        self.chords = chords\n",
    "        #print(self.chords)\n",
    "    \n",
    "    \n",
    "    "
   ]
  },
  {
   "cell_type": "code",
   "execution_count": 51,
   "metadata": {},
   "outputs": [
    {
     "name": "stdout",
     "output_type": "stream",
     "text": [
      "['I', 'vi', 'IV', 'V']\n"
     ]
    }
   ],
   "source": [
    "test_song = SongGeneration('C', length=4)\n",
    "test_song.gen_chords()\n",
    "print(test_song)"
   ]
  },
  {
   "cell_type": "code",
   "execution_count": null,
   "metadata": {},
   "outputs": [],
   "source": []
  }
 ],
 "metadata": {
  "kernelspec": {
   "display_name": "Python 3",
   "language": "python",
   "name": "python3"
  },
  "language_info": {
   "codemirror_mode": {
    "name": "ipython",
    "version": 3
   },
   "file_extension": ".py",
   "mimetype": "text/x-python",
   "name": "python",
   "nbconvert_exporter": "python",
   "pygments_lexer": "ipython3",
   "version": "3.8.5"
  }
 },
 "nbformat": 4,
 "nbformat_minor": 4
}
