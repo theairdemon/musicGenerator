{
 "cells": [
  {
   "cell_type": "markdown",
   "metadata": {},
   "source": [
    "# Song Generator\n",
    "\n",
    "Idea: use the chord progressions thing to generate sequence, then a melody over that sequence that fits according to the number of beats in an input poem\n",
    "\n",
    "![](poss_chords_prog.png)\n",
    "\n",
    "---"
   ]
  },
  {
   "cell_type": "markdown",
   "metadata": {},
   "source": [
    "### Structure\n",
    "1. Generate chord sequence\n",
    "2. Do this for verses, chorus, and bridge\n",
    "3. Parse input test, find number of syllables per line\n",
    "4. Generate melody with same number of notes over the chord progression\n",
    "5. (maybe) export to midi files\n",
    "6. Put into ableton\n",
    "7. Record vocals\n",
    "8. Repeat over and over and over...\n",
    "9. Profit"
   ]
  },
  {
   "cell_type": "markdown",
   "metadata": {},
   "source": [
    "### SongGen stuff\n",
    "---"
   ]
  },
  {
   "cell_type": "code",
   "execution_count": 1,
   "metadata": {},
   "outputs": [],
   "source": [
    "import random\n",
    "from midiutil.MidiFile import MIDIFile\n",
    "from datetime import datetime"
   ]
  },
  {
   "cell_type": "code",
   "execution_count": 11,
   "metadata": {},
   "outputs": [],
   "source": [
    "class SongGeneration:\n",
    "    \n",
    "    def __init__(self, key, style='major', length=4, verses=1, rhythm=[], file_name=\"test\", file_location=\"\"):\n",
    "        self.key = key\n",
    "        self.style = style # 'major' or 'minor'\n",
    "        self.length = length # default is 4 chords\n",
    "        self.verses = verses # default is 1 verse\n",
    "        self.file_name = file_name # maximum recommended length: 9\n",
    "        self.file_location = file_location # where to save the midi file\n",
    "        \n",
    "        # Chord Progression Dictionaries\n",
    "        self.chord_prog_maj = {'I':[['V', 'vii'], ['ii', 'IV'], ['vi'], ['iii']],\n",
    "                          'ii':['V', 'vii'],\n",
    "                          'iii': ['vi'],\n",
    "                          'IV':['V', 'vii'],\n",
    "                          'V': ['I'],\n",
    "                          'vi': ['ii', 'IV'],\n",
    "                          'vii': ['iii', 'I']}\n",
    "        \n",
    "        self.chord_prog_min = {'i':[['V'], ['ii', 'iv'], ['VI'], ['III'], ['VII']],\n",
    "                          'ii':['V'],\n",
    "                          'III': ['VI'],\n",
    "                          'iv':['V'],\n",
    "                          'V': ['i'],\n",
    "                          'VI': ['ii', 'iv'],\n",
    "                          'VII' : ['III']}\n",
    "        \n",
    "        self.chord_prog = self.chord_prog_maj if self.style == 'major' else self.chord_prog_min\n",
    "        \n",
    "        self.one_cycle = 4 if self.style == 'major' else 5 # for use in chord prog picking\n",
    "        \n",
    "        # List of all possible notes, rhythms, and rhythm weights\n",
    "        self.all_notes = ['C', 'C#', 'D', 'D#', 'E', 'F', 'F#', 'G', 'G#', 'A', 'A#', 'B']\n",
    "        self.all_rhythms = [0.25, 0.5, 1, 2]\n",
    "        self.all_rhythm_weights = [0.1, 0.4, 0.95, 1.0]\n",
    "        \n",
    "        # Notes dictionary for MIDI file\n",
    "        self.notes_dict = {}\n",
    "        bass = 48\n",
    "        treble1 = 60\n",
    "        treble2 = 72\n",
    "        for i in range(0, len(self.all_notes)):\n",
    "            self.notes_dict[self.all_notes[i]] = [bass + i, treble1 + i, treble2 + i]\n",
    "        \n",
    "        # Class variables, for use in generation functions\n",
    "        self.scale = []\n",
    "        self.chords = []\n",
    "        self.chord_notes = []\n",
    "        self.melody = []\n",
    "        self.rhythm_intro = rhythm\n",
    "        self.rhythm = []\n",
    "    \n",
    "    def __str__(self):\n",
    "        return_string = str(self.scale) + \"\\n\" + str(self.chords) + \"\\n\" \n",
    "        #return_string += str(self.chord_notes) + \"\\n\" + str(self.rhythm) + \"\\n\"\n",
    "        #return_string += str(self.melody)\n",
    "        return return_string\n",
    "    \n",
    "    def gen_song(self):\n",
    "        self.gen_scale()\n",
    "        self.gen_chords()\n",
    "        for i in range(self.verses):\n",
    "            self.gen_rhythm()\n",
    "            self.gen_melody()\n",
    "        self.gen_MIDI()\n",
    "        \n",
    "    def gen_scale(self):\n",
    "        i = self.all_notes.index(self.key)\n",
    "        l = len(self.all_notes)\n",
    "        if self.style == 'major':\n",
    "            self.scale.append(self.all_notes[i])\n",
    "            self.scale.append(self.all_notes[(i + 2) % l])\n",
    "            self.scale.append(self.all_notes[(i + 4) % l])\n",
    "            self.scale.append(self.all_notes[(i + 5) % l])\n",
    "            self.scale.append(self.all_notes[(i + 7) % l])\n",
    "            self.scale.append(self.all_notes[(i + 9) % l])\n",
    "            self.scale.append(self.all_notes[(i + 11) % l])\n",
    "        elif self.style == 'minor':\n",
    "            self.scale.append(self.all_notes[i])\n",
    "            self.scale.append(self.all_notes[(i + 2) % l])\n",
    "            self.scale.append(self.all_notes[(i + 3) % l])\n",
    "            self.scale.append(self.all_notes[(i + 5) % l])\n",
    "            self.scale.append(self.all_notes[(i + 7) % l])\n",
    "            self.scale.append(self.all_notes[(i + 8) % l])\n",
    "            self.scale.append(self.all_notes[(i + 10) % l])\n",
    "        \n",
    "    def gen_chords(self):\n",
    "        chords = ['I'] if self.style == 'major' else ['i']\n",
    "        sub_value = 2\n",
    "        start_value = (self.length - sub_value) % self.one_cycle\n",
    "        start_chord = random.choice(self.chord_prog[chords[0]][start_value])\n",
    "        chords.append(start_chord)\n",
    "        \n",
    "        while len(chords) != self.length:\n",
    "            if chords[-1] != 'I' and chords[-1] != 'i':\n",
    "                next_chord = random.choice(self.chord_prog[chords[-1]])  \n",
    "            elif chords[-1] == 'iv' and len(chords) >= self.length - 2:\n",
    "                next_chord = 'V'\n",
    "            else:\n",
    "                if self.style == 'major':\n",
    "                    new_start_value = (self.length - sub_value) % self.one_cycle\n",
    "                else: \n",
    "                    new_start_value = (self.length - 5) % self.one_cycle\n",
    "                next_chord = random.choice(self.chord_prog[chords[-1]][new_start_value])\n",
    "            chords.append(next_chord)\n",
    "            \n",
    "        self.chords = chords\n",
    "        \n",
    "        for chord in self.chords:\n",
    "            if chord == 'I' or chord == 'i':\n",
    "                self.chord_notes.append([self.scale[0], self.scale[2], self.scale[4]])\n",
    "            elif chord == 'ii':\n",
    "                self.chord_notes.append([self.scale[1], self.scale[3], self.scale[5]])\n",
    "            elif chord == 'iii' or chord == 'III':\n",
    "                self.chord_notes.append([self.scale[2], self.scale[4], self.scale[6]])\n",
    "            elif chord == 'IV' or chord == 'iv':\n",
    "                self.chord_notes.append([self.scale[3], self.scale[5], self.scale[0]])\n",
    "            elif chord == 'V':\n",
    "                self.chord_notes.append([self.scale[4], self.scale[6], self.scale[1]])\n",
    "            elif chord == 'vi' or chord == 'VI':\n",
    "                self.chord_notes.append([self.scale[5], self.scale[0], self.scale[2]])\n",
    "            elif chord == 'vii' or chord == 'VII':\n",
    "                self.chord_notes.append([self.scale[6], self.scale[1], self.scale[3]])\n",
    "        #print(self.chords)\n",
    "    \n",
    "    def gen_rhythm(self):\n",
    "        if len(self.rhythm_intro) == 0:\n",
    "            for chord in self.chords:\n",
    "                total = 0\n",
    "                measure = []\n",
    "                while total < 4:\n",
    "                    # pick a weighted random note\n",
    "                    r1 = random.uniform(0, 1)\n",
    "                    new_note = self.all_rhythms[-1]  \n",
    "                    for i in range(0, len(self.all_rhythm_weights)):\n",
    "                        if self.all_rhythm_weights[i] <= r1:\n",
    "                            new_note = self.all_rhythms[i]                            \n",
    "                    \n",
    "                    # only add note size that fits inside the measure\n",
    "                    if total + new_note > 4:\n",
    "                        new_note = 4 - total\n",
    "                    measure.append(new_note)\n",
    "                    total += new_note\n",
    "                    \n",
    "                    # some percent chance to replicate the same note, creating runs of the same size\n",
    "                    # only if the note is < one beat long\n",
    "                    if new_note < 1 and total + new_note <= 4:\n",
    "                        r2 = random.uniform(0, 1)\n",
    "                        if r2 < 0.5:\n",
    "                            measure.append(new_note)\n",
    "                            total += new_note\n",
    "                    \n",
    "                self.rhythm.append(measure)\n",
    "                \n",
    "        else:\n",
    "            for i in range(0, len(self.chords)):\n",
    "                num_notes = self.rhythm_intro[i]\n",
    "                total = 4\n",
    "                rough_notes = total / num_notes\n",
    "                raw_measure = [rough_notes for i in range(0, num_notes)]\n",
    "                measure = []\n",
    "                while sum(measure) != 4:\n",
    "                    measure = []\n",
    "                    for note in raw_measure:\n",
    "                        distances = [(note - n)**2 for n in self.all_rhythms]\n",
    "\n",
    "                        min1 = distances.index(min(distances))\n",
    "                        distances[min1] = 10000\n",
    "                        min2 = distances.index(min(distances))\n",
    "                        \n",
    "                        measure.append(random.choice([self.all_rhythms[min1], self.all_rhythms[min2]]))\n",
    "                    \n",
    "                \n",
    "                #print(measure)\n",
    "                        \n",
    "                self.rhythm.append(measure)\n",
    "                        \n",
    "                \n",
    "    \n",
    "    def gen_melody(self):\n",
    "        for i in range(0, len(self.chords)):\n",
    "            starting_note = random.choice(self.chord_notes[i]) \n",
    "            measure = [[starting_note, self.rhythm[i][0]]]\n",
    "            for j in range(1, len(self.rhythm[i])):\n",
    "                prev_note = measure[j-1][0]\n",
    "                scale_i = self.scale.index(prev_note)\n",
    "                if self.rhythm[i][j] < 2:\n",
    "                    note = random.choice([self.scale[(scale_i + len(self.scale) - 1) % len(self.scale)], \n",
    "                                          self.scale[(scale_i + len(self.scale) + 1) % len(self.scale)]])\n",
    "                else:\n",
    "                    note = random.choice(self.chord_notes[i]) \n",
    "                measure.append([note, self.rhythm[i][j]])\n",
    "            self.melody.append(measure)\n",
    "    \n",
    "    def gen_MIDI(self):\n",
    "        #print(str(self.melody))\n",
    "        # create your MIDI object\n",
    "        mf = MIDIFile(2)     # only 1 track\n",
    "        track1 = 0   # the only track\n",
    "        track2 = 1\n",
    "\n",
    "        time = 0    # start at the beginning\n",
    "        mf.addTrackName(track1, time, self.file_name + \"_chords\")\n",
    "        mf.addTrackName(track2, time, self.file_name + \"_melody\")\n",
    "        #mf.addTempo(track1, time, 120)\n",
    "\n",
    "        # add some notes\n",
    "        channel = 0\n",
    "        channel_chords = 0\n",
    "        channel_melody = 1\n",
    "        volume = 100\n",
    "        \n",
    "        overall_chord_time = 0\n",
    "        for v in range(self.verses):\n",
    "            for i in range(0, len(self.chord_notes)):\n",
    "                chord = self.chord_notes[i]\n",
    "                chord_time = overall_chord_time + i * 4\n",
    "                pitch1 = self.notes_dict[chord[0]][0]\n",
    "                pitch2 = self.notes_dict[chord[1]][0]\n",
    "                pitch3 = self.notes_dict[chord[2]][0]\n",
    "                duration = 4\n",
    "                mf.addNote(track1, channel, pitch1, chord_time, duration, 65)\n",
    "                mf.addNote(track1, channel, pitch2, chord_time, duration, 65)\n",
    "                mf.addNote(track1, channel, pitch3, chord_time, duration, 65)\n",
    "            overall_chord_time += len(self.chord_notes) * 4\n",
    "        \n",
    "        last_pitch = 0\n",
    "        for i in range(0, len(self.melody)):\n",
    "            measure = self.melody[i]\n",
    "            measure_time = i * 4\n",
    "            \n",
    "            for j in range(0, len(measure)):\n",
    "                note = measure[j][0]\n",
    "                pitch1 = self.notes_dict[note][1]\n",
    "                pitch2 = self.notes_dict[note][2]\n",
    "                \n",
    "                dist1 = (pitch1 - last_pitch)**2\n",
    "                dist2 = (pitch2 - last_pitch)**2\n",
    "                \n",
    "                pitch = pitch1 if dist1 <= dist2 else pitch2                \n",
    "                duration = measure[j][1]\n",
    "                mf.addNote(track2, channel, pitch, measure_time, duration, volume)\n",
    "                \n",
    "                measure_time += measure[j][1]\n",
    "                last_pitch = pitch\n",
    "            \n",
    "\n",
    "        # write it to disk\n",
    "        with open(\"midi_files\\\\\" + self.file_location + self.file_name + \".mid\", 'wb') as outf:\n",
    "            mf.writeFile(outf)"
   ]
  },
  {
   "cell_type": "code",
   "execution_count": 27,
   "metadata": {},
   "outputs": [
    {
     "name": "stdout",
     "output_type": "stream",
     "text": [
      "G\n"
     ]
    }
   ],
   "source": [
    "note_list = ['C', 'C#', 'D', 'D#', 'E', 'F', 'F#', 'G', 'G#', 'A', 'A#', 'B']\n",
    "key = random.choice(note_list)\n",
    "print(key)"
   ]
  },
  {
   "cell_type": "code",
   "execution_count": 28,
   "metadata": {
    "scrolled": false
   },
   "outputs": [
    {
     "name": "stdout",
     "output_type": "stream",
     "text": [
      "['G', 'A', 'A#', 'C', 'D', 'D#', 'F']\n",
      "['i', 'VI', 'iv', 'V']\n",
      "\n"
     ]
    }
   ],
   "source": [
    "test_song = SongGeneration(key, style='minor', length=4, verses=4)\n",
    "test_song.gen_song()\n",
    "print(test_song)"
   ]
  },
  {
   "cell_type": "code",
   "execution_count": 32,
   "metadata": {},
   "outputs": [
    {
     "name": "stdout",
     "output_type": "stream",
     "text": [
      "['G', 'A', 'A#', 'C', 'D', 'D#', 'F']\n",
      "['i', 'VI', 'ii', 'V']\n",
      "\n",
      "['G', 'A', 'A#', 'C', 'D', 'D#', 'F']\n",
      "['i', 'VI', 'ii', 'V']\n",
      "\n",
      "['G', 'A', 'A#', 'C', 'D', 'D#', 'F']\n",
      "['i', 'VI', 'iv', 'V']\n",
      "\n",
      "['G', 'A', 'A#', 'C', 'D', 'D#', 'F']\n",
      "['i', 'V', 'i', 'VI', 'iv', 'V', 'i']\n",
      "\n"
     ]
    }
   ],
   "source": [
    "folder = \"album_1\\\\track_4\\\\\"\n",
    "song_style = \"minor\"\n",
    "verse1 = SongGeneration(key, style=song_style, length=4, verses=2, file_name=\"verse1\", file_location=folder)\n",
    "verse1.gen_song()\n",
    "print(verse1)\n",
    "\n",
    "chorus = SongGeneration(key, style=song_style, length=4, verses=2, file_name=\"chorus\", file_location=folder)\n",
    "chorus.gen_song()\n",
    "print(chorus)\n",
    "\n",
    "verse2 = SongGeneration(key, style=song_style, length=4, verses=2, file_name=\"verse2\", file_location=folder)\n",
    "verse2.gen_song()\n",
    "print(verse2)\n",
    "\n",
    "bridge = SongGeneration(key, style=song_style, length=7, verses=1, file_name=\"bridge\", file_location=folder)\n",
    "bridge.gen_song()\n",
    "print(bridge)"
   ]
  },
  {
   "cell_type": "markdown",
   "metadata": {},
   "source": [
    "['A#', 'C', 'D', 'D#', 'F', 'G', 'A']\n",
    "['I', 'vi', 'IV', 'vii']\n",
    "\n",
    "['A#', 'C', 'D', 'D#', 'F', 'G', 'A']\n",
    "['I', 'vi', 'ii', 'vii']\n",
    "\n",
    "['A#', 'C', 'D', 'D#', 'F', 'G', 'A']\n",
    "['I', 'vi', 'IV', 'V']\n",
    "\n",
    "['A#', 'C', 'D', 'D#', 'F', 'G', 'A']\n",
    "['I', 'ii', 'V', 'iii', 'vi', 'ii', 'V']"
   ]
  },
  {
   "cell_type": "code",
   "execution_count": 10,
   "metadata": {},
   "outputs": [],
   "source": [
    "now = str(datetime.now()) # current date and time\n",
    "now = now.replace(\":\", \"\")\n",
    "now = now.replace(\" \", \"_\")\n",
    "now = now.replace(\".\", \"_\")"
   ]
  },
  {
   "cell_type": "markdown",
   "metadata": {},
   "source": [
    "### Natural Language Processing\n",
    "\n",
    "NLTK specifically\n",
    "\n",
    "---"
   ]
  },
  {
   "cell_type": "code",
   "execution_count": 11,
   "metadata": {},
   "outputs": [],
   "source": [
    "import nltk\n",
    "from nltk.corpus import cmudict\n",
    "from nltk.tokenize import RegexpTokenizer\n",
    "import math\n",
    "d = cmudict.dict()"
   ]
  },
  {
   "cell_type": "code",
   "execution_count": 19,
   "metadata": {},
   "outputs": [],
   "source": [
    "def nsyl(word):\n",
    "    vowels = 'aeiouy'\n",
    "    if len(word) == 1 and word.lower()[0] not in vowels:\n",
    "        return [0]\n",
    "    try:\n",
    "        return [len(list(y for y in x if y[-1].isdigit())) for x in d[word.lower()]]\n",
    "    except KeyError:\n",
    "        #if word not found in cmudict\n",
    "        return [syllables(word)]\n",
    "\n",
    "def syllables(word):\n",
    "    #referred from stackoverflow.com/questions/14541303/count-the-number-of-syllables-in-a-word\n",
    "    count = 0\n",
    "    vowels = 'aeiouy'\n",
    "    word = word.lower()\n",
    "    if word[0] in vowels:\n",
    "        count +=1\n",
    "    for index in range(1,len(word)):\n",
    "        if word[index] in vowels and word[index-1] not in vowels:\n",
    "            count +=1\n",
    "    if word.endswith('e'):\n",
    "        count -= 1\n",
    "    if word.endswith('le'):\n",
    "        count += 1\n",
    "    return count"
   ]
  },
  {
   "cell_type": "code",
   "execution_count": 20,
   "metadata": {},
   "outputs": [
    {
     "name": "stdout",
     "output_type": "stream",
     "text": [
      "['The night is darkening round me,\\n', 'The wild winds coldly blow;\\n', 'But a tyrant spell has bound me\\n', 'And I cannot, cannot go.\\n', '\\n', 'The giant trees are bending\\n', 'Their bare boughs weighed with snow.\\n', 'And the storm is fast descending,\\n', 'And yet I cannot go.\\n', '\\n', 'Clouds beyond clouds above me,\\n', 'Wastes beyond wastes below;\\n', 'But nothing drear can move me;\\n', 'I will not, cannot go.']\n"
     ]
    }
   ],
   "source": [
    "f = open(\"poems\\\\spellbound_emily_bronte.txt\")\n",
    "raw_sonnets = f.readlines()\n",
    "f.close()\n",
    "print(raw_sonnets)"
   ]
  },
  {
   "cell_type": "code",
   "execution_count": 24,
   "metadata": {},
   "outputs": [
    {
     "name": "stdout",
     "output_type": "stream",
     "text": [
      "[['The', 'night', 'is', 'darkening', 'round', 'me'], ['The', 'wild', 'winds', 'coldly', 'blow'], ['But', 'a', 'tyrant', 'spell', 'has', 'bound', 'me'], ['And', 'I', 'cannot', 'cannot', 'go'], ['The', 'giant', 'trees', 'are', 'bending'], ['Their', 'bare', 'boughs', 'weighed', 'with', 'snow'], ['And', 'the', 'storm', 'is', 'fast', 'descending'], ['And', 'yet', 'I', 'cannot', 'go'], ['Clouds', 'beyond', 'clouds', 'above', 'me'], ['Wastes', 'beyond', 'wastes', 'below'], ['But', 'nothing', 'drear', 'can', 'move', 'me'], ['I', 'will', 'not', 'cannot', 'go']]\n"
     ]
    }
   ],
   "source": [
    "sonnet = []\n",
    "for line in raw_sonnets:\n",
    "    new_line = line[:-1]\n",
    "    tokenizer = RegexpTokenizer(r'\\w+')\n",
    "    tokens = tokenizer.tokenize(new_line)\n",
    "    if len(tokens) > 0:\n",
    "        sonnet.append(tokens)\n",
    "print(sonnet)"
   ]
  },
  {
   "cell_type": "code",
   "execution_count": 25,
   "metadata": {},
   "outputs": [
    {
     "name": "stdout",
     "output_type": "stream",
     "text": [
      "[[['the', [1, 1, 1]], ['night', [1]], ['is', [1, 1]], ['darkening', [3, 2]], ['round', [1]], ['me', [1]]], [['the', [1, 1, 1]], ['wild', [1]], ['winds', [1, 1]], ['coldly', [2]], ['blow', [1]]], [['but', [1]], ['a', [1, 1]], ['tyrant', [2]], ['spell', [1]], ['has', [1, 1]], ['bound', [1]], ['me', [1]]], [['and', [1, 1]], ['i', [1]], ['cannot', [2, 2]], ['cannot', [2, 2]], ['go', [1]]], [['the', [1, 1, 1]], ['giant', [2]], ['trees', [1]], ['are', [1, 1]], ['bending', [2]]], [['their', [1]], ['bare', [1]], ['boughs', [1]], ['weighed', [1]], ['with', [1, 1, 1, 1]], ['snow', [1]]], [['and', [1, 1]], ['the', [1, 1, 1]], ['storm', [1]], ['is', [1, 1]], ['fast', [1]], ['descending', [3]]], [['and', [1, 1]], ['yet', [1]], ['i', [1]], ['cannot', [2, 2]], ['go', [1]]], [['clouds', [1]], ['beyond', [2, 2, 2]], ['clouds', [1]], ['above', [2]], ['me', [1]]], [['wastes', [1]], ['beyond', [2, 2, 2]], ['wastes', [1]], ['below', [2, 2]]], [['but', [1]], ['nothing', [2]], ['drear', [1]], ['can', [1, 1]], ['move', [1]], ['me', [1]]], [['i', [1]], ['will', [1, 1]], ['not', [1]], ['cannot', [2, 2]], ['go', [1]]]]\n"
     ]
    }
   ],
   "source": [
    "syllable_list = []\n",
    "for line in sonnet:\n",
    "    new_line = []\n",
    "    for word in line:\n",
    "        new_line.append([word.lower(), nsyl(word)])\n",
    "    syllable_list.append(new_line)\n",
    "print(syllable_list)"
   ]
  },
  {
   "cell_type": "code",
   "execution_count": 26,
   "metadata": {},
   "outputs": [
    {
     "name": "stdout",
     "output_type": "stream",
     "text": [
      "[8, 6, 8, 7, 7, 6, 8, 6, 7, 6, 7, 6]\n",
      "[['the night is ', 'darkening round me '], ['the wild winds ', 'coldly blow '], ['but a tyrant ', 'spell has bound me '], ['and i cannot ', 'cannot go '], ['the giant trees ', 'are bending '], ['their bare boughs ', 'weighed with snow '], ['and the storm is ', 'fast descending '], ['and yet i ', 'cannot go '], ['clouds beyond clouds ', 'above me '], ['wastes beyond ', 'wastes below '], ['but nothing drear ', 'can move me '], ['i will not ', 'cannot go ']]\n"
     ]
    }
   ],
   "source": [
    "counts = []\n",
    "lyrics = []\n",
    "for line in syllable_list:\n",
    "    count = 0\n",
    "    sentence = []\n",
    "    for word in line:\n",
    "        #sentence += word[0] + \" \"\n",
    "        count += max(word[1])\n",
    "    counts.append(count)\n",
    "    lyrics.append(sentence)\n",
    "    \n",
    "    next_count = 0\n",
    "    sentence.append(\"\")\n",
    "    for word in line:\n",
    "        next_count += max(word[1])\n",
    "        if next_count > math.ceil(count/2) and len(sentence) == 1:\n",
    "            sentence.append(\"\")\n",
    "        sentence[-1] += word[0] + \" \"\n",
    "        \n",
    "print(counts)\n",
    "print(lyrics)"
   ]
  },
  {
   "cell_type": "code",
   "execution_count": 29,
   "metadata": {},
   "outputs": [
    {
     "ename": "KeyboardInterrupt",
     "evalue": "",
     "output_type": "error",
     "traceback": [
      "\u001b[1;31m---------------------------------------------------------------------------\u001b[0m",
      "\u001b[1;31mKeyboardInterrupt\u001b[0m                         Traceback (most recent call last)",
      "\u001b[1;32m<ipython-input-29-e0a5b07a14ab>\u001b[0m in \u001b[0;36m<module>\u001b[1;34m\u001b[0m\n\u001b[0;32m      1\u001b[0m \u001b[0mchorus\u001b[0m \u001b[1;33m=\u001b[0m \u001b[0mSongGeneration\u001b[0m\u001b[1;33m(\u001b[0m\u001b[0mkey\u001b[0m\u001b[1;33m,\u001b[0m \u001b[0mstyle\u001b[0m\u001b[1;33m=\u001b[0m\u001b[1;34m'minor'\u001b[0m\u001b[1;33m,\u001b[0m \u001b[0mlength\u001b[0m\u001b[1;33m=\u001b[0m\u001b[1;36m4\u001b[0m\u001b[1;33m,\u001b[0m \u001b[0mverses\u001b[0m\u001b[1;33m=\u001b[0m\u001b[1;36m3\u001b[0m\u001b[1;33m,\u001b[0m \u001b[0mfile_name\u001b[0m\u001b[1;33m=\u001b[0m\u001b[1;34m\"chorus\"\u001b[0m\u001b[1;33m,\u001b[0m \u001b[0mrhythm\u001b[0m\u001b[1;33m=\u001b[0m\u001b[1;33m[\u001b[0m\u001b[1;36m7\u001b[0m\u001b[1;33m,\u001b[0m\u001b[1;36m6\u001b[0m\u001b[1;33m,\u001b[0m\u001b[1;36m7\u001b[0m\u001b[1;33m,\u001b[0m\u001b[1;36m6\u001b[0m\u001b[1;33m]\u001b[0m\u001b[1;33m,\u001b[0m \u001b[0mfile_location\u001b[0m\u001b[1;33m=\u001b[0m\u001b[0mfolder\u001b[0m\u001b[1;33m)\u001b[0m\u001b[1;33m\u001b[0m\u001b[1;33m\u001b[0m\u001b[0m\n\u001b[1;32m----> 2\u001b[1;33m \u001b[0mchorus\u001b[0m\u001b[1;33m.\u001b[0m\u001b[0mgen_song\u001b[0m\u001b[1;33m(\u001b[0m\u001b[1;33m)\u001b[0m\u001b[1;33m\u001b[0m\u001b[1;33m\u001b[0m\u001b[0m\n\u001b[0m\u001b[0;32m      3\u001b[0m \u001b[0mprint\u001b[0m\u001b[1;33m(\u001b[0m\u001b[0mchorus\u001b[0m\u001b[1;33m)\u001b[0m\u001b[1;33m\u001b[0m\u001b[1;33m\u001b[0m\u001b[0m\n",
      "\u001b[1;32m<ipython-input-2-07e2c82c0138>\u001b[0m in \u001b[0;36mgen_song\u001b[1;34m(self)\u001b[0m\n\u001b[0;32m     62\u001b[0m         \u001b[0mself\u001b[0m\u001b[1;33m.\u001b[0m\u001b[0mgen_chords\u001b[0m\u001b[1;33m(\u001b[0m\u001b[1;33m)\u001b[0m\u001b[1;33m\u001b[0m\u001b[1;33m\u001b[0m\u001b[0m\n\u001b[0;32m     63\u001b[0m         \u001b[1;32mfor\u001b[0m \u001b[0mi\u001b[0m \u001b[1;32min\u001b[0m \u001b[0mrange\u001b[0m\u001b[1;33m(\u001b[0m\u001b[0mself\u001b[0m\u001b[1;33m.\u001b[0m\u001b[0mverses\u001b[0m\u001b[1;33m)\u001b[0m\u001b[1;33m:\u001b[0m\u001b[1;33m\u001b[0m\u001b[1;33m\u001b[0m\u001b[0m\n\u001b[1;32m---> 64\u001b[1;33m             \u001b[0mself\u001b[0m\u001b[1;33m.\u001b[0m\u001b[0mgen_rhythm\u001b[0m\u001b[1;33m(\u001b[0m\u001b[1;33m)\u001b[0m\u001b[1;33m\u001b[0m\u001b[1;33m\u001b[0m\u001b[0m\n\u001b[0m\u001b[0;32m     65\u001b[0m             \u001b[0mself\u001b[0m\u001b[1;33m.\u001b[0m\u001b[0mgen_melody\u001b[0m\u001b[1;33m(\u001b[0m\u001b[1;33m)\u001b[0m\u001b[1;33m\u001b[0m\u001b[1;33m\u001b[0m\u001b[0m\n\u001b[0;32m     66\u001b[0m         \u001b[0mself\u001b[0m\u001b[1;33m.\u001b[0m\u001b[0mgen_MIDI\u001b[0m\u001b[1;33m(\u001b[0m\u001b[1;33m)\u001b[0m\u001b[1;33m\u001b[0m\u001b[1;33m\u001b[0m\u001b[0m\n",
      "\u001b[1;32m<ipython-input-2-07e2c82c0138>\u001b[0m in \u001b[0;36mgen_rhythm\u001b[1;34m(self)\u001b[0m\n\u001b[0;32m    167\u001b[0m \u001b[1;33m\u001b[0m\u001b[0m\n\u001b[0;32m    168\u001b[0m                         \u001b[0mmin1\u001b[0m \u001b[1;33m=\u001b[0m \u001b[0mdistances\u001b[0m\u001b[1;33m.\u001b[0m\u001b[0mindex\u001b[0m\u001b[1;33m(\u001b[0m\u001b[0mmin\u001b[0m\u001b[1;33m(\u001b[0m\u001b[0mdistances\u001b[0m\u001b[1;33m)\u001b[0m\u001b[1;33m)\u001b[0m\u001b[1;33m\u001b[0m\u001b[1;33m\u001b[0m\u001b[0m\n\u001b[1;32m--> 169\u001b[1;33m                         \u001b[0mdistances\u001b[0m\u001b[1;33m[\u001b[0m\u001b[0mmin1\u001b[0m\u001b[1;33m]\u001b[0m \u001b[1;33m=\u001b[0m \u001b[1;36m10000\u001b[0m\u001b[1;33m\u001b[0m\u001b[1;33m\u001b[0m\u001b[0m\n\u001b[0m\u001b[0;32m    170\u001b[0m                         \u001b[0mmin2\u001b[0m \u001b[1;33m=\u001b[0m \u001b[0mdistances\u001b[0m\u001b[1;33m.\u001b[0m\u001b[0mindex\u001b[0m\u001b[1;33m(\u001b[0m\u001b[0mmin\u001b[0m\u001b[1;33m(\u001b[0m\u001b[0mdistances\u001b[0m\u001b[1;33m)\u001b[0m\u001b[1;33m)\u001b[0m\u001b[1;33m\u001b[0m\u001b[1;33m\u001b[0m\u001b[0m\n\u001b[0;32m    171\u001b[0m \u001b[1;33m\u001b[0m\u001b[0m\n",
      "\u001b[1;31mKeyboardInterrupt\u001b[0m: "
     ]
    }
   ],
   "source": [
    "chorus = SongGeneration(key, style='minor', length=4, verses=3, file_name=\"chorus\", rhythm=[7,6,7,6], file_location=folder)\n",
    "chorus.gen_song()\n",
    "print(chorus)"
   ]
  },
  {
   "cell_type": "code",
   "execution_count": 27,
   "metadata": {},
   "outputs": [
    {
     "name": "stdout",
     "output_type": "stream",
     "text": [
      "[[4, 4, 3, 3], [3, 3, 4, 4], [4, 4, 4, 3], [4, 3, 4, 3], [4, 3, 3, 3], [3, 3, 4, 4], [4, 4, 3, 3], [3, 3, 4, 3], [4, 3, 3, 3], [3, 3, 4, 3], [4, 3, 3, 3]]\n"
     ]
    }
   ],
   "source": [
    "counts_split = []\n",
    "for i in range(0, len(counts)-1):\n",
    "    count1 = counts[i]\n",
    "    count2 = counts[i+1]\n",
    "    count3 = [math.ceil(count1/2), math.floor(count1/2), math.ceil(count2/2), math.floor(count2/2)]\n",
    "    counts_split.append(count3)\n",
    "print(counts_split)"
   ]
  },
  {
   "cell_type": "code",
   "execution_count": null,
   "metadata": {},
   "outputs": [],
   "source": [
    "# stanza_num = 1\n",
    "# for stanza in counts_split:\n",
    "#     count_song = SongGeneration('G', length=len(stanza), rhythm=stanza, file_name=\"stanza_\"+str(stanza_num))\n",
    "#     count_song.gen_song()\n",
    "#     print(\"Generated stanza \" + str(stanza_num))\n",
    "#     stanza_num += 1"
   ]
  },
  {
   "cell_type": "code",
   "execution_count": null,
   "metadata": {},
   "outputs": [],
   "source": []
  }
 ],
 "metadata": {
  "kernelspec": {
   "display_name": "Python 3",
   "language": "python",
   "name": "python3"
  },
  "language_info": {
   "codemirror_mode": {
    "name": "ipython",
    "version": 3
   },
   "file_extension": ".py",
   "mimetype": "text/x-python",
   "name": "python",
   "nbconvert_exporter": "python",
   "pygments_lexer": "ipython3",
   "version": "3.8.5"
  }
 },
 "nbformat": 4,
 "nbformat_minor": 4
}
