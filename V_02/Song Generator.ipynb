{
 "cells": [
  {
   "cell_type": "markdown",
   "metadata": {},
   "source": [
    "# Song Generator\n",
    "\n",
    "Idea: use the chord progressions thing to generate sequence, then a melody over that sequence that fits according to the number of beats in an input poem\n",
    "\n",
    "![](poss_chords_prog.png)\n",
    "\n",
    "---"
   ]
  },
  {
   "cell_type": "markdown",
   "metadata": {},
   "source": [
    "### Structure\n",
    "1. Generate chord sequence\n",
    "2. Do this for verses, chorus, and bridge\n",
    "3. Parse input test, find number of syllables per line\n",
    "4. Generate melody with same number of notes over the chord progression\n",
    "5. (maybe) export to midi files\n",
    "6. Put into ableton\n",
    "7. Record vocals\n",
    "8. Repeat over and over and over...\n",
    "9. Profit"
   ]
  },
  {
   "cell_type": "markdown",
   "metadata": {},
   "source": [
    "### SongGen stuff\n",
    "---"
   ]
  },
  {
   "cell_type": "code",
   "execution_count": 1,
   "metadata": {},
   "outputs": [],
   "source": [
    "import random\n",
    "from midiutil.MidiFile import MIDIFile\n",
    "from datetime import datetime"
   ]
  },
  {
   "cell_type": "code",
   "execution_count": 11,
   "metadata": {},
   "outputs": [],
   "source": [
    "class SongGeneration:\n",
    "    \n",
    "    def __init__(self, key, length=4, rhythm=[], file_name=\"test\"):\n",
    "        self.key = key\n",
    "        self.length = length # default is 4 chords\n",
    "        # absolute maximum recommended length: 9\n",
    "        self.file_name = file_name\n",
    "        \n",
    "        # Chord Progression Dictionary\n",
    "        self.chord_prog_maj = {'I':[['V', 'vii'], ['ii', 'IV'], ['vi'], ['iii']],\n",
    "                          'ii':['V', 'vii'],\n",
    "                          'iii': ['vi'],\n",
    "                          'IV':['V', 'vii'],\n",
    "                          'V': ['iii'],\n",
    "                          'vi': ['ii', 'IV'],\n",
    "                          'vii': ['iii']}\n",
    "        \n",
    "        # List of all possible notes and rhythms, plus the weights for picking the rhythm\n",
    "        self.all_notes = ['C', 'C#', 'D', 'D#', 'E', 'F', 'F#', 'G', 'G#', 'A', 'A#', 'B']\n",
    "        self.all_rhythms = [0.25, 0.5, 1, 2]\n",
    "        self.all_rhythm_weights = [0.1, 0.4, 0.95, 1.0]\n",
    "        \n",
    "        # Notes dictionary for MIDI file\n",
    "        self.notes_dict = {}\n",
    "        bass = 48\n",
    "        treble1 = 60\n",
    "        treble2 = 72\n",
    "        for i in range(0, len(self.all_notes)):\n",
    "            self.notes_dict[self.all_notes[i]] = [bass + i, treble1 + i, treble2 + i]\n",
    "        \n",
    "        # Class variables, for use in generation functions\n",
    "        self.scale = []\n",
    "        self.chords = []\n",
    "        self.chord_notes = []\n",
    "        self.melody = []\n",
    "        self.rhythm_intro = rhythm\n",
    "        self.rhythm = []\n",
    "    \n",
    "    def __str__(self):\n",
    "        return_string = str(self.scale) + \"\\n\" + str(self.chords) + \"\\n\" \n",
    "        return_string += str(self.chord_notes) + \"\\n\" + str(self.rhythm) + \"\\n\"\n",
    "        return_string += str(self.melody)\n",
    "        return return_string\n",
    "    \n",
    "    def gen_song(self):\n",
    "        self.gen_scale()\n",
    "        self.gen_chords()\n",
    "        self.gen_rhythm()\n",
    "        self.gen_melody()\n",
    "        self.gen_MIDI()\n",
    "        \n",
    "    def gen_scale(self):\n",
    "        i = self.all_notes.index(self.key)\n",
    "        l = len(self.all_notes)\n",
    "        self.scale.append(self.all_notes[i])\n",
    "        self.scale.append(self.all_notes[(i + 2) % l])\n",
    "        self.scale.append(self.all_notes[(i + 4) % l])\n",
    "        self.scale.append(self.all_notes[(i + 5) % l])\n",
    "        self.scale.append(self.all_notes[(i + 7) % l])\n",
    "        self.scale.append(self.all_notes[(i + 9) % l])\n",
    "        self.scale.append(self.all_notes[(i + 11) % l])\n",
    "        \n",
    "    def gen_chords(self):\n",
    "        chords = ['I']\n",
    "        sub_value = 2\n",
    "        start_value = (self.length - sub_value) % 4\n",
    "        start_chord = random.choice(self.chord_prog_maj[chords[0]][start_value])\n",
    "        chords.append(start_chord)\n",
    "        \n",
    "        while len(chords) != self.length:\n",
    "            next_chord = random.choice(self.chord_prog_maj[chords[-1]])            \n",
    "            chords.append(next_chord)\n",
    "            \n",
    "        self.chords = chords\n",
    "        \n",
    "        for chord in self.chords:\n",
    "            if chord == 'I':\n",
    "                self.chord_notes.append([self.scale[0], self.scale[2], self.scale[4]])\n",
    "            elif chord == 'ii':\n",
    "                self.chord_notes.append([self.scale[1], self.scale[3], self.scale[5]])\n",
    "            elif chord == 'iii':\n",
    "                self.chord_notes.append([self.scale[2], self.scale[4], self.scale[6]])\n",
    "            elif chord == 'IV':\n",
    "                self.chord_notes.append([self.scale[3], self.scale[5], self.scale[0]])\n",
    "            elif chord == 'V':\n",
    "                self.chord_notes.append([self.scale[4], self.scale[6], self.scale[1]])\n",
    "            elif chord == 'vi':\n",
    "                self.chord_notes.append([self.scale[5], self.scale[0], self.scale[2]])\n",
    "            elif chord == 'vii':\n",
    "                self.chord_notes.append([self.scale[6], self.scale[1], self.scale[3]])\n",
    "        #print(self.chords)\n",
    "    \n",
    "    def gen_rhythm(self):\n",
    "        if len(self.rhythm_intro) == 0:\n",
    "            for chord in self.chords:\n",
    "                total = 0\n",
    "                measure = []\n",
    "                while total < 4:\n",
    "                    # pick a weighted random note\n",
    "                    r1 = random.uniform(0, 1)\n",
    "                    for i in range(0, len(self.all_rhythm_weights)):\n",
    "                        if self.all_rhythm_weights[i] <= r1:\n",
    "                            new_note = self.all_rhythms[i]                            \n",
    "                    \n",
    "                    # only add note size that fits inside the measure\n",
    "                    if total + new_note > 4:\n",
    "                        new_note = 4 - total\n",
    "                    measure.append(new_note)\n",
    "                    total += new_note\n",
    "                    \n",
    "                    # some percent chance to replicate the same note, creating runs of the same size\n",
    "                    # only if the note is < one beat long\n",
    "                    if new_note < 1 and total + new_note <= 4:\n",
    "                        r2 = random.uniform(0, 1)\n",
    "                        if r2 < 0.5:\n",
    "                            measure.append(new_note)\n",
    "                            total += new_note\n",
    "                    \n",
    "                self.rhythm.append(measure)\n",
    "                \n",
    "        else:\n",
    "            for i in range(0, len(self.chords)):\n",
    "                num_notes = self.rhythm_intro[i]\n",
    "                total = 4\n",
    "                rough_notes = total / num_notes\n",
    "                raw_measure = [rough_notes for i in range(0, num_notes)]\n",
    "                measure = []\n",
    "                while sum(measure) != 4:\n",
    "                    measure = []\n",
    "                    for note in raw_measure:\n",
    "                        distances = [(note - n)**2 for n in self.all_rhythms]\n",
    "\n",
    "                        min1 = distances.index(min(distances))\n",
    "                        distances[min1] = 10000\n",
    "                        min2 = distances.index(min(distances))\n",
    "                        \n",
    "                        measure.append(random.choice([self.all_rhythms[min1], self.all_rhythms[min2]]))\n",
    "                    \n",
    "                \n",
    "                print(measure)\n",
    "                        \n",
    "                self.rhythm.append(measure)\n",
    "                        \n",
    "                \n",
    "    \n",
    "    def gen_melody(self):\n",
    "        for i in range(0, len(self.chords)):\n",
    "            starting_note = random.choice(self.chord_notes[i]) \n",
    "            measure = [[starting_note, self.rhythm[i][0]]]\n",
    "            for j in range(1, len(self.rhythm[i])):\n",
    "                prev_note = measure[j-1][0]\n",
    "                scale_i = self.scale.index(prev_note)\n",
    "                if self.rhythm[i][j] < 2:\n",
    "                    note = random.choice([self.scale[(scale_i + len(self.scale) - 1) % len(self.scale)], \n",
    "                                          self.scale[(scale_i + len(self.scale) + 1) % len(self.scale)]])\n",
    "                else:\n",
    "                    note = random.choice(self.chord_notes[i]) \n",
    "                measure.append([note, self.rhythm[i][j]])\n",
    "            self.melody.append(measure)\n",
    "    \n",
    "    def gen_MIDI(self):\n",
    "        #print(str(self.melody))\n",
    "        # create your MIDI object\n",
    "        mf = MIDIFile(1)     # only 1 track\n",
    "        track = 0   # the only track\n",
    "\n",
    "        time = 0    # start at the beginning\n",
    "        mf.addTrackName(track, time, self.file_name)\n",
    "        mf.addTempo(track, time, 120)\n",
    "\n",
    "        # add some notes\n",
    "        channel_chords = 0\n",
    "        channel_melody = 1\n",
    "        volume = 100\n",
    "        \n",
    "        for i in range(0, len(self.chord_notes)):\n",
    "            chord = self.chord_notes[i]\n",
    "            chord_time = i * 4\n",
    "            pitch1 = self.notes_dict[chord[0]][0]\n",
    "            pitch2 = self.notes_dict[chord[1]][0]\n",
    "            pitch3 = self.notes_dict[chord[2]][0]\n",
    "            duration = 4\n",
    "            mf.addNote(track, channel_chords, pitch1, chord_time, duration, 65)\n",
    "            mf.addNote(track, channel_chords, pitch2, chord_time, duration, 65)\n",
    "            mf.addNote(track, channel_chords, pitch3, chord_time, duration, 65)\n",
    "        \n",
    "        last_pitch = 0\n",
    "        for i in range(0, len(self.melody)):\n",
    "            measure = self.melody[i]\n",
    "            measure_time = i * 4\n",
    "            \n",
    "            for j in range(0, len(measure)):\n",
    "                note = measure[j][0]\n",
    "                pitch1 = self.notes_dict[note][1]\n",
    "                pitch2 = self.notes_dict[note][2]\n",
    "                \n",
    "                dist1 = (pitch1 - last_pitch)**2\n",
    "                dist2 = (pitch2 - last_pitch)**2\n",
    "                \n",
    "                pitch = pitch1 if dist1 <= dist2 else pitch2                \n",
    "                duration = measure[j][1]\n",
    "                mf.addNote(track, channel_melody, pitch, measure_time, duration, volume)\n",
    "                \n",
    "                measure_time += measure[j][1]\n",
    "                last_pitch = pitch\n",
    "            \n",
    "\n",
    "        # write it to disk\n",
    "        with open(\"midi_files\\\\\" + self.file_name + \".mid\", 'wb') as outf:\n",
    "            mf.writeFile(outf)"
   ]
  },
  {
   "cell_type": "code",
   "execution_count": 12,
   "metadata": {
    "scrolled": true
   },
   "outputs": [
    {
     "name": "stdout",
     "output_type": "stream",
     "text": [
      "[1, 0.5, 0.5, 1, 1]\n",
      "[0.5, 1, 1, 0.5, 1]\n",
      "[0.5, 1, 1, 0.5, 1]\n",
      "[0.5, 1, 1, 1, 0.5]\n",
      "['G', 'A', 'B', 'C', 'D', 'E', 'F#']\n",
      "['I', 'vi', 'ii', 'vii']\n",
      "[['G', 'B', 'D'], ['E', 'G', 'B'], ['A', 'C', 'E'], ['F#', 'A', 'C']]\n",
      "[[1, 0.5, 0.5, 1, 1], [0.5, 1, 1, 0.5, 1], [0.5, 1, 1, 0.5, 1], [0.5, 1, 1, 1, 0.5]]\n",
      "[[['D', 1], ['C', 0.5], ['D', 0.5], ['E', 1], ['F#', 1]], [['B', 0.5], ['A', 1], ['G', 1], ['A', 0.5], ['B', 1]], [['E', 0.5], ['D', 1], ['E', 1], ['D', 0.5], ['E', 1]], [['F#', 0.5], ['E', 1], ['F#', 1], ['G', 1], ['F#', 0.5]]]\n"
     ]
    }
   ],
   "source": [
    "test_song = SongGeneration('G', length=4, rhythm=[5, 5, 5, 5], file_name=\"test_sonnet2\")\n",
    "test_song.gen_song()\n",
    "print(test_song)"
   ]
  },
  {
   "cell_type": "code",
   "execution_count": 4,
   "metadata": {},
   "outputs": [],
   "source": [
    "now = str(datetime.now()) # current date and time\n",
    "now = now.replace(\":\", \"\")\n",
    "now = now.replace(\" \", \"_\")\n",
    "now = now.replace(\".\", \"_\")"
   ]
  },
  {
   "cell_type": "markdown",
   "metadata": {},
   "source": [
    "### NLTK Stuff\n",
    "---"
   ]
  },
  {
   "cell_type": "code",
   "execution_count": 5,
   "metadata": {},
   "outputs": [],
   "source": [
    "import nltk\n",
    "from nltk.corpus import cmudict\n",
    "from nltk.tokenize import RegexpTokenizer\n",
    "import math\n",
    "d = cmudict.dict()"
   ]
  },
  {
   "cell_type": "code",
   "execution_count": 6,
   "metadata": {},
   "outputs": [],
   "source": [
    "def nsyl(word):\n",
    "    vowels = 'aeiouy'\n",
    "    if len(word) == 1 and word.lower()[0] not in vowels:\n",
    "        return [0]\n",
    "    try:\n",
    "        return [len(list(y for y in x if y[-1].isdigit())) for x in d[word.lower()]]\n",
    "    except KeyError:\n",
    "        #if word not found in cmudict\n",
    "        return [syllables(word)]\n",
    "\n",
    "def syllables(word):\n",
    "    #referred from stackoverflow.com/questions/14541303/count-the-number-of-syllables-in-a-word\n",
    "    count = 0\n",
    "    vowels = 'aeiouy'\n",
    "    word = word.lower()\n",
    "    if word[0] in vowels:\n",
    "        count +=1\n",
    "    for index in range(1,len(word)):\n",
    "        if word[index] in vowels and word[index-1] not in vowels:\n",
    "            count +=1\n",
    "    if word.endswith('e'):\n",
    "        count -= 1\n",
    "    if word.endswith('le'):\n",
    "        count += 1\n",
    "    return count"
   ]
  },
  {
   "cell_type": "code",
   "execution_count": 7,
   "metadata": {},
   "outputs": [
    {
     "name": "stdout",
     "output_type": "stream",
     "text": [
      "['THE partial Muse has, from my earliest hours,\\n', \" Smil'd on the rugged path I'm doom'd to tread,\\n\", \" And still with sportive hand has snatch'd wild flow'rs,\\n\", ' To weave fantastic garlands for my head:\\n', ' But far, far happier is the lot of those\\n', \" Who never learn'd her dear delusive art;\\n\", ' Which, while it decks the head with many a rose,\\n', ' Reserves the thorn, to fester in the heart. \\n', \"For still she bids soft Pity's melting eye\\n\", \" Stream o'er the ills she knows not to remove,\\n\", \" Points ev'ry pang, and deepens ev'ry sigh\\n\", ' Of mourning Friendship, or unhappy Love. \\n', \"Ah! then, how dear the Muse's favors cost,\\n\", ' If those paint sorrow best â€” who feel it most. ']\n"
     ]
    }
   ],
   "source": [
    "f = open(\"elegaic_sonnets.txt\")\n",
    "raw_sonnets = f.readlines()\n",
    "f.close()\n",
    "print(raw_sonnets)"
   ]
  },
  {
   "cell_type": "code",
   "execution_count": 8,
   "metadata": {},
   "outputs": [
    {
     "name": "stdout",
     "output_type": "stream",
     "text": [
      "[['THE', 'partial', 'Muse', 'has', 'from', 'my', 'earliest', 'hours'], ['Smil', 'd', 'on', 'the', 'rugged', 'path', 'I', 'm', 'doom', 'd', 'to', 'tread'], ['And', 'still', 'with', 'sportive', 'hand', 'has', 'snatch', 'd', 'wild', 'flow', 'rs'], ['To', 'weave', 'fantastic', 'garlands', 'for', 'my', 'head'], ['But', 'far', 'far', 'happier', 'is', 'the', 'lot', 'of', 'those'], ['Who', 'never', 'learn', 'd', 'her', 'dear', 'delusive', 'art'], ['Which', 'while', 'it', 'decks', 'the', 'head', 'with', 'many', 'a', 'rose'], ['Reserves', 'the', 'thorn', 'to', 'fester', 'in', 'the', 'heart'], ['For', 'still', 'she', 'bids', 'soft', 'Pity', 's', 'melting', 'eye'], ['Stream', 'o', 'er', 'the', 'ills', 'she', 'knows', 'not', 'to', 'remove'], ['Points', 'ev', 'ry', 'pang', 'and', 'deepens', 'ev', 'ry', 'sigh'], ['Of', 'mourning', 'Friendship', 'or', 'unhappy', 'Love'], ['Ah', 'then', 'how', 'dear', 'the', 'Muse', 's', 'favors', 'cost'], ['If', 'those', 'paint', 'sorrow', 'best', 'â', 'who', 'feel', 'it', 'most']]\n"
     ]
    }
   ],
   "source": [
    "sonnet = []\n",
    "for line in raw_sonnets:\n",
    "    new_line = line[:-1]\n",
    "    tokenizer = RegexpTokenizer(r'\\w+')\n",
    "    tokens = tokenizer.tokenize(new_line)\n",
    "    sonnet.append(tokens)\n",
    "print(sonnet)"
   ]
  },
  {
   "cell_type": "code",
   "execution_count": 9,
   "metadata": {},
   "outputs": [
    {
     "name": "stdout",
     "output_type": "stream",
     "text": [
      "[[['the', [1, 1, 1]], ['partial', [2]], ['muse', [1]], ['has', [1, 1]], ['from', [1, 1]], ['my', [1]], ['earliest', [3]], ['hours', [2, 1]]], [['smil', [1]], ['d', [0]], ['on', [1, 1]], ['the', [1, 1, 1]], ['rugged', [2]], ['path', [1]], ['i', [1]], ['m', [0]], ['doom', [1]], ['d', [0]], ['to', [1, 1, 1]], ['tread', [1]]], [['and', [1, 1]], ['still', [1]], ['with', [1, 1, 1, 1]], ['sportive', [2]], ['hand', [1]], ['has', [1, 1]], ['snatch', [1]], ['d', [0]], ['wild', [1]], ['flow', [1]], ['rs', [0]]], [['to', [1, 1, 1]], ['weave', [1]], ['fantastic', [3]], ['garlands', [2]], ['for', [1, 1, 1]], ['my', [1]], ['head', [1]]], [['but', [1]], ['far', [1]], ['far', [1]], ['happier', [3]], ['is', [1, 1]], ['the', [1, 1, 1]], ['lot', [1, 1]], ['of', [1, 1]], ['those', [1]]], [['who', [1]], ['never', [2]], ['learn', [1]], ['d', [0]], ['her', [1, 1]], ['dear', [1]], ['delusive', [3]], ['art', [1]]], [['which', [1, 1]], ['while', [1, 1]], ['it', [1, 1]], ['decks', [1]], ['the', [1, 1, 1]], ['head', [1]], ['with', [1, 1, 1, 1]], ['many', [2]], ['a', [1, 1]], ['rose', [1]]], [['reserves', [2, 2]], ['the', [1, 1, 1]], ['thorn', [1]], ['to', [1, 1, 1]], ['fester', [2]], ['in', [1, 1]], ['the', [1, 1, 1]], ['heart', [1]]], [['for', [1, 1, 1]], ['still', [1]], ['she', [1]], ['bids', [1]], ['soft', [1, 1]], ['pity', [2]], ['s', [0]], ['melting', [2]], ['eye', [1]]], [['stream', [1]], ['o', [1]], ['er', [1]], ['the', [1, 1, 1]], ['ills', [1]], ['she', [1]], ['knows', [1]], ['not', [1]], ['to', [1, 1, 1]], ['remove', [2]]], [['points', [1]], ['ev', [1]], ['ry', [1]], ['pang', [1]], ['and', [1, 1]], ['deepens', [2]], ['ev', [1]], ['ry', [1]], ['sigh', [1]]], [['of', [1, 1]], ['mourning', [2]], ['friendship', [2, 2]], ['or', [1, 1]], ['unhappy', [3]], ['love', [1]]], [['ah', [1]], ['then', [1]], ['how', [1]], ['dear', [1]], ['the', [1, 1, 1]], ['muse', [1]], ['s', [0]], ['favors', [2]], ['cost', [1, 1]]], [['if', [1, 1]], ['those', [1]], ['paint', [1]], ['sorrow', [2]], ['best', [1]], ['â', [0]], ['who', [1]], ['feel', [1]], ['it', [1, 1]], ['most', [1, 1]]]]\n"
     ]
    }
   ],
   "source": [
    "syllable_list = []\n",
    "for line in sonnet:\n",
    "    new_line = []\n",
    "    for word in line:\n",
    "        new_line.append([word.lower(), nsyl(word)])\n",
    "    syllable_list.append(new_line)\n",
    "print(syllable_list)"
   ]
  },
  {
   "cell_type": "code",
   "execution_count": 10,
   "metadata": {},
   "outputs": [
    {
     "name": "stdout",
     "output_type": "stream",
     "text": [
      "[12, 10, 10, 10, 11, 10, 11, 10, 10, 11, 10, 10, 9, 10]\n",
      "[['the partial muse has from ', 'my earliest hours '], ['smil d on the rugged ', 'path i m doom d to tread '], ['and still with sportive ', 'hand has snatch d wild flow rs '], ['to weave fantastic ', 'garlands for my head '], ['but far far happier ', 'is the lot of those '], ['who never learn d her ', 'dear delusive art '], ['which while it decks the head ', 'with many a rose '], ['reserves the thorn to ', 'fester in the heart '], ['for still she bids soft ', 'pity s melting eye '], ['stream o er the ills she ', 'knows not to remove '], ['points ev ry pang and ', 'deepens ev ry sigh '], ['of mourning friendship ', 'or unhappy love '], ['ah then how dear the ', 'muse s favors cost '], ['if those paint sorrow ', 'best â who feel it most ']]\n"
     ]
    }
   ],
   "source": [
    "counts = []\n",
    "lyrics = []\n",
    "for line in syllable_list:\n",
    "    count = 0\n",
    "    sentence = []\n",
    "    for word in line:\n",
    "        #sentence += word[0] + \" \"\n",
    "        count += max(word[1])\n",
    "    counts.append(count)\n",
    "    lyrics.append(sentence)\n",
    "    \n",
    "    next_count = 0\n",
    "    sentence.append(\"\")\n",
    "    for word in line:\n",
    "        next_count += max(word[1])\n",
    "        if next_count > math.ceil(count/2) and len(sentence) == 1:\n",
    "            sentence.append(\"\")\n",
    "        sentence[-1] += word[0] + \" \"\n",
    "        \n",
    "print(counts)\n",
    "print(lyrics)"
   ]
  },
  {
   "cell_type": "code",
   "execution_count": null,
   "metadata": {},
   "outputs": [],
   "source": []
  }
 ],
 "metadata": {
  "kernelspec": {
   "display_name": "Python 3",
   "language": "python",
   "name": "python3"
  },
  "language_info": {
   "codemirror_mode": {
    "name": "ipython",
    "version": 3
   },
   "file_extension": ".py",
   "mimetype": "text/x-python",
   "name": "python",
   "nbconvert_exporter": "python",
   "pygments_lexer": "ipython3",
   "version": "3.8.5"
  }
 },
 "nbformat": 4,
 "nbformat_minor": 4
}
